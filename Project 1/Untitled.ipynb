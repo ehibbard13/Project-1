{
 "cells": [
  {
   "cell_type": "code",
   "execution_count": 3,
   "id": "5a5c63a7",
   "metadata": {},
   "outputs": [],
   "source": [
    "# Dependencies\n",
    "import hvplot.pandas\n",
    "import pandas as pd\n",
    "import requests\n",
    "import time\n",
    "from scipy.stats import linregress\n",
    "from matplotlib import pyplot as plt\n",
    "import json\n",
    "from citipy import citipy\n",
    "import numpy as np\n",
    "# Import the API key\n",
    "from config import geoapify_key"
   ]
  },
  {
   "cell_type": "code",
   "execution_count": 6,
   "id": "1c26f5a9",
   "metadata": {},
   "outputs": [
    {
     "name": "stdout",
     "output_type": "stream",
     "text": [
      "Number of cities in the list: 479\n"
     ]
    },
    {
     "data": {
      "text/html": [
       "<div>\n",
       "<style scoped>\n",
       "    .dataframe tbody tr th:only-of-type {\n",
       "        vertical-align: middle;\n",
       "    }\n",
       "\n",
       "    .dataframe tbody tr th {\n",
       "        vertical-align: top;\n",
       "    }\n",
       "\n",
       "    .dataframe thead th {\n",
       "        text-align: right;\n",
       "    }\n",
       "</style>\n",
       "<table border=\"1\" class=\"dataframe\">\n",
       "  <thead>\n",
       "    <tr style=\"text-align: right;\">\n",
       "      <th></th>\n",
       "      <th>0</th>\n",
       "    </tr>\n",
       "  </thead>\n",
       "  <tbody>\n",
       "    <tr>\n",
       "      <th>0</th>\n",
       "      <td>sitka</td>\n",
       "    </tr>\n",
       "    <tr>\n",
       "      <th>1</th>\n",
       "      <td>brookings</td>\n",
       "    </tr>\n",
       "    <tr>\n",
       "      <th>2</th>\n",
       "      <td>thompson</td>\n",
       "    </tr>\n",
       "    <tr>\n",
       "      <th>3</th>\n",
       "      <td>prince rupert</td>\n",
       "    </tr>\n",
       "    <tr>\n",
       "      <th>4</th>\n",
       "      <td>gastonia</td>\n",
       "    </tr>\n",
       "  </tbody>\n",
       "</table>\n",
       "</div>"
      ],
      "text/plain": [
       "               0\n",
       "0          sitka\n",
       "1      brookings\n",
       "2       thompson\n",
       "3  prince rupert\n",
       "4       gastonia"
      ]
     },
     "execution_count": 6,
     "metadata": {},
     "output_type": "execute_result"
    }
   ],
   "source": [
    "\n",
    "# Empty list for holding the latitude and longitude combinations\n",
    "lat_lngs = []\n",
    "\n",
    "# Empty list for holding the cities names\n",
    "cities = []\n",
    "\n",
    "# Range of latitudes and longitudes\n",
    "lat_range = (19.50139, 64.85694 )\n",
    "lng_range = (-161.75583, -68.01197)\n",
    "#limit = 10\n",
    "\n",
    "# Create a set of random lat and lng combinations\n",
    "lats = np.random.uniform(lat_range[0], lat_range[1], size=1500)\n",
    "lngs = np.random.uniform(lng_range[0], lng_range[1], size=1500)\n",
    "lat_lngs = zip(lats, lngs)\n",
    "\n",
    "\n",
    "# Identify nearest city for each lat, lng combination\n",
    "for lat_lng in lat_lngs:\n",
    "    city = citipy.nearest_city(lat_lng[0], lat_lng[1]).city_name\n",
    "    \n",
    "    # If the city is unique, then add it to a our cities list\n",
    "    if city not in cities:\n",
    "        cities.append(city)\n",
    "cities_df=pd.DataFrame(cities)\n",
    "# Print the city count to confirm sufficient count\n",
    "print(f\"Number of cities in the list: {len(cities)}\")\n",
    "cities_df.head()\n",
    "\n"
   ]
  },
  {
   "cell_type": "code",
   "execution_count": null,
   "id": "d016eea7",
   "metadata": {},
   "outputs": [],
   "source": [
    "# Set the geographical coordinates\n",
    "latitude = 40.7648\n",
    "longitude = -73.9808\n",
    "\n",
    "# Set the parameters for the type of place\n",
    "categories = \"parking\"\n",
    "radius = 8000\n",
    "limit = 20\n",
    "filters = f\"circle:{longitude},{latitude},{radius}\"\n",
    "bias = f\"proximity:{longitude},{latitude}\"\n",
    "\n",
    "#set up a parameters dictionary\n",
    "params = {\n",
    "\"categories\":categories,\n",
    "\"apiKey\":geoapify_key,\n",
    "\"limit\":limit,\n",
    "\"filter\":filters,\n",
    "\"bias\":bias,\n",
    "}\n",
    "base_url = \"https://api.geoapify.com/v1/geocode/search\"\n",
    "response = requests.get(base_url, params=params)\n",
    "print(response.url)\n",
    "\n",
    "parking_data =  response.json()\n",
    "\n",
    "print(json.dumps(parking_data, indent = 4, sort_keys = True))"
   ]
  },
  {
   "cell_type": "code",
   "execution_count": null,
   "id": "41bd9b37",
   "metadata": {},
   "outputs": [],
   "source": [
    "parking_df[\"Name\"]=\"\"\n",
    "parking_df[\"Address\"]=\"\"\n",
    "parking_df[\"Access\"] = \"\"\n",
    "parking_df[\"Fee\"] = \"\"\n",
    "parking_df[\"Type\"]=\"\"\n",
    "parking_df[\"Capacity\"]=\"\"\n",
    "parking_df[\"Capacity Details\"]=\"\"\n",
    "\n",
    "parking_df.head()"
   ]
  },
  {
   "cell_type": "code",
   "execution_count": null,
   "id": "8cafeda1",
   "metadata": {},
   "outputs": [],
   "source": [
    "   parking_df.loc[index, \"name\"] = \"-\"\"\n",
    "        parking_df.loc[index, \"address\"] = \"-\"\n",
    "        parking_df.loc[index, \"Access\"] = \"-\"\n",
    "        parking_df.loc[index, \"fee\"] = \"-\"\n",
    "        parking_df.loc[index, \"capacity\"] = \"-\""
   ]
  },
  {
   "cell_type": "code",
   "execution_count": null,
   "id": "e691ab1d",
   "metadata": {},
   "outputs": [],
   "source": [
    "park_df = pd.DataFrame(parking_data)"
   ]
  },
  {
   "cell_type": "code",
   "execution_count": null,
   "id": "fb38e38b",
   "metadata": {},
   "outputs": [],
   "source": [
    "#print(\"Starting restaurant search\")\n",
    "\n",
    "# Iterate through the types_df DataFrame\n",
    "for index, row in parking_df.iterrows():\n",
    "    \n",
    "    # Get the ethnicity type from the current DataFrame's row\n",
    "    ethnicity = parking_df.loc[index, \"properties\"]\n",
    "    # Add the current ethnicity type to the parameters\n",
    "    params[\"categories\"] = f\"parking.{properties}\"\n",
    "   \n",
    "    # Make an API request using the params dictionary\n",
    "    response = requests.get(url)\n",
    "\n",
    "    \n",
    "    # Convert the API response to JSON format\n",
    "    parking = response.json()\n",
    "    \n",
    "    # Grab the first restaurant from the results and store the details in the DataFrame\n",
    "    try:\n",
    "        parking_df.loc[index, \"name\"] = parking[\"features\"][1][\"properties\"][\"name\"]\n",
    "        parking_df.loc[index, \"address\"] = parking[\"features\"][1][\"properties\"][\"address_line2\"]\n",
    "        parking_df.loc[index, \"Access\"] = parking[\"features\"][1][\"properties\"][\"datasource\"][\"raw\"][\"access\"]\n",
    "        parking_df.loc[index, \"fee\"] = parking[\"features\"][1][\"properties\"][\"datasource\"][\"raw\"][\"fee\"]\n",
    "        parking_df.loc[index, \"capacity\"] = parking[\"features\"][1][\"datasource\"][\"raw\"][\"capacity\"]\n",
    "    except (KeyError, IndexError):\n",
    "        # Set the distance column value to np.nan to allow sorting values\n",
    "        parking_df.loc[index, \"Access\"] = np.nan\n",
    "        parking_df.loc[index, \"fee\"] = np.nan\n",
    "        parking_df.loc[index, \"capacity\"] = np.nan\n",
    "        \n",
    "    # Log the search results\n",
    "    #print(f\"nearest {parking_df.loc[index, 'type']} restaurant: {parking_df.loc[index, 'name']}\")\n",
    "\n",
    "# Display sample data\n",
    "parking_df"
   ]
  },
  {
   "cell_type": "code",
   "execution_count": null,
   "id": "c1f54fb7",
   "metadata": {},
   "outputs": [],
   "source": [
    "#url=f\"https://api.geoapify.com/v2/places?categories=parking&filter=place:517bd8384d167e52c059afb076b00e634440f00101f901a5f2260000000000c0020992030f4e657720596f726b20436f756e7479&limit=20&apiKey= {geoapify_key}&t=\"\n",
    "#parking_url = requests.get(url).json()\n",
    "#print(json.dumps(parking_url, indent = 4, sort_keys=True))"
   ]
  }
 ],
 "metadata": {
  "kernelspec": {
   "display_name": "Python 3 (ipykernel)",
   "language": "python",
   "name": "python3"
  },
  "language_info": {
   "codemirror_mode": {
    "name": "ipython",
    "version": 3
   },
   "file_extension": ".py",
   "mimetype": "text/x-python",
   "name": "python",
   "nbconvert_exporter": "python",
   "pygments_lexer": "ipython3",
   "version": "3.10.9"
  }
 },
 "nbformat": 4,
 "nbformat_minor": 5
}
