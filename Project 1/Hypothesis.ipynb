{
 "cells": [
  {
   "cell_type": "code",
   "execution_count": 1,
   "id": "699e4a10",
   "metadata": {},
   "outputs": [],
   "source": [
    "#import Dependancies\n",
    "%matplotlib inline\n",
    "from matplotlib import pyplot as plt\n",
    "import numpy as np\n",
    "import scipy.stats as stats\n",
    "\n",
    "from pathlib import Path\n",
    "import pandas as pd\n",
    "\n",
    "import warnings\n",
    "warnings.filterwarnings('ignore')"
   ]
  },
  {
   "cell_type": "code",
   "execution_count": 53,
   "id": "0745c7d1",
   "metadata": {},
   "outputs": [],
   "source": [
    "# Create a file path\n",
    "pop_set = Path(\"Output/Population.csv\")\n",
    "\n",
    "# Read in the data. \n",
    "pop_df = pd.read_csv(pop_set)\n",
    "\n",
    "#Find min and max population to test our hypothesis\n",
    "max_city = pop_df.loc[pop_df[\"Population\"].idxmax()]\n",
    "min_city = pop_df.loc[pop_df[\"Population\"].idxmin()]\n",
    "\n",
    "#print(max_city, min_city)"
   ]
  },
  {
   "cell_type": "code",
   "execution_count": 15,
   "id": "3d743af5",
   "metadata": {},
   "outputs": [
    {
     "data": {
      "text/html": [
       "<div>\n",
       "<style scoped>\n",
       "    .dataframe tbody tr th:only-of-type {\n",
       "        vertical-align: middle;\n",
       "    }\n",
       "\n",
       "    .dataframe tbody tr th {\n",
       "        vertical-align: top;\n",
       "    }\n",
       "\n",
       "    .dataframe thead th {\n",
       "        text-align: right;\n",
       "    }\n",
       "</style>\n",
       "<table border=\"1\" class=\"dataframe\">\n",
       "  <thead>\n",
       "    <tr style=\"text-align: right;\">\n",
       "      <th></th>\n",
       "      <th>city ID</th>\n",
       "      <th>city</th>\n",
       "      <th>capacity</th>\n",
       "    </tr>\n",
       "  </thead>\n",
       "  <tbody>\n",
       "    <tr>\n",
       "      <th>0</th>\n",
       "      <td>2</td>\n",
       "      <td>New York</td>\n",
       "      <td>140.0</td>\n",
       "    </tr>\n",
       "    <tr>\n",
       "      <th>1</th>\n",
       "      <td>4</td>\n",
       "      <td>New York</td>\n",
       "      <td>200.0</td>\n",
       "    </tr>\n",
       "    <tr>\n",
       "      <th>2</th>\n",
       "      <td>5</td>\n",
       "      <td>New York</td>\n",
       "      <td>150.0</td>\n",
       "    </tr>\n",
       "    <tr>\n",
       "      <th>3</th>\n",
       "      <td>6</td>\n",
       "      <td>New York</td>\n",
       "      <td>209.0</td>\n",
       "    </tr>\n",
       "    <tr>\n",
       "      <th>4</th>\n",
       "      <td>7</td>\n",
       "      <td>New York</td>\n",
       "      <td>301.0</td>\n",
       "    </tr>\n",
       "    <tr>\n",
       "      <th>...</th>\n",
       "      <td>...</td>\n",
       "      <td>...</td>\n",
       "      <td>...</td>\n",
       "    </tr>\n",
       "    <tr>\n",
       "      <th>95</th>\n",
       "      <td>286</td>\n",
       "      <td>Philadelphia</td>\n",
       "      <td>354.0</td>\n",
       "    </tr>\n",
       "    <tr>\n",
       "      <th>96</th>\n",
       "      <td>290</td>\n",
       "      <td>Philadelphia</td>\n",
       "      <td>220.0</td>\n",
       "    </tr>\n",
       "    <tr>\n",
       "      <th>97</th>\n",
       "      <td>294</td>\n",
       "      <td>Philadelphia</td>\n",
       "      <td>90.0</td>\n",
       "    </tr>\n",
       "    <tr>\n",
       "      <th>98</th>\n",
       "      <td>314</td>\n",
       "      <td>Phoenix</td>\n",
       "      <td>1400.0</td>\n",
       "    </tr>\n",
       "    <tr>\n",
       "      <th>99</th>\n",
       "      <td>317</td>\n",
       "      <td>Phoenix</td>\n",
       "      <td>116.0</td>\n",
       "    </tr>\n",
       "  </tbody>\n",
       "</table>\n",
       "<p>100 rows × 3 columns</p>\n",
       "</div>"
      ],
      "text/plain": [
       "    city ID          city  capacity\n",
       "0         2      New York     140.0\n",
       "1         4      New York     200.0\n",
       "2         5      New York     150.0\n",
       "3         6      New York     209.0\n",
       "4         7      New York     301.0\n",
       "..      ...           ...       ...\n",
       "95      286  Philadelphia     354.0\n",
       "96      290  Philadelphia     220.0\n",
       "97      294  Philadelphia      90.0\n",
       "98      314       Phoenix    1400.0\n",
       "99      317       Phoenix     116.0\n",
       "\n",
       "[100 rows x 3 columns]"
      ]
     },
     "execution_count": 15,
     "metadata": {},
     "output_type": "execute_result"
    }
   ],
   "source": [
    "# Create a file path\n",
    "data_set = Path(\"Output/Capacity.csv\")\n",
    "\n",
    "# Read in the data. \n",
    "df = pd.read_csv(data_set)\n",
    "df"
   ]
  },
  {
   "cell_type": "markdown",
   "id": "789db889",
   "metadata": {},
   "source": [
    "---\n",
    "# Hypothesis\n",
    "## Does a city’s population affect the capacity of a parking lot?\n",
    "\n",
    "\n",
    "#### Alternative: If a city’s population is related to the capacity of a parking lot, then a city with a higher density of people will have a parking lot with more capacity offered.\n",
    "\n",
    "\n",
    "#### Null: If a city’s population is not related to the capacity of a parking lot, then a city with a higher density of people will not offer more parking spaces per parking lot.  \n",
    "---"
   ]
  },
  {
   "cell_type": "code",
   "execution_count": 16,
   "id": "82590a56",
   "metadata": {},
   "outputs": [
    {
     "data": {
      "text/plain": [
       "174.86666666666667"
      ]
     },
     "execution_count": 16,
     "metadata": {},
     "output_type": "execute_result"
    }
   ],
   "source": [
    "# Calculate the capacity mean for Los Angeles (highest population)\n",
    "population1 = df[df[\"city\"] == \"Los Angeles\"]\n",
    "population1.capacity.mean()"
   ]
  },
  {
   "cell_type": "code",
   "execution_count": 31,
   "id": "405dfc2a",
   "metadata": {},
   "outputs": [
    {
     "data": {
      "text/plain": [
       "453.6666666666667"
      ]
     },
     "execution_count": 31,
     "metadata": {},
     "output_type": "execute_result"
    }
   ],
   "source": [
    "# Calculate the capacity mean for Atlanta (lowest population)\n",
    "population2 = df[df[\"city\"] == \"Atlanta\"]\n",
    "population2.capacity.mean()"
   ]
  },
  {
   "cell_type": "code",
   "execution_count": 32,
   "id": "2bfe6346",
   "metadata": {},
   "outputs": [
    {
     "data": {
      "text/plain": [
       "Ttest_indResult(statistic=-2.078281497209789, pvalue=0.15133837895751248)"
      ]
     },
     "execution_count": 32,
     "metadata": {},
     "output_type": "execute_result"
    }
   ],
   "source": [
    "#Calculate the pvalue using independent ttest function\n",
    "stats.ttest_ind(population1.capacity, population2.capacity, equal_var=False)"
   ]
  },
  {
   "cell_type": "code",
   "execution_count": 52,
   "id": "df685870",
   "metadata": {},
   "outputs": [
    {
     "data": {
      "image/png": "[encoded data removed]",
      "text/plain": [
       "<Figure size 640x480 with 1 Axes>"
      ]
     },
     "metadata": {},
     "output_type": "display_data"
    }
   ],
   "source": [
    "x_values = df[\"city\"]\n",
    "y_values = df[\"capacity\"]\n",
    "\n",
    "plt.bar(x_values, y_values, facecolor=\"blue\", edgecolor=\"black\", alpha=0.4)\n",
    "plt.xlabel(\"City\")\n",
    "plt.ylabel(\"Parking Capacity\")\n",
    "plt.title(\"Parking Capacity per City\")\n",
    "plt.xticks(rotation=45)\n",
    "\n",
    "#save to output folder\n",
    "plt.savefig(\"Output/Capacity_per_City.png\", bbox_inches='tight')\n",
    "\n",
    "plt.show()"
   ]
  },
  {
   "cell_type": "code",
   "execution_count": null,
   "id": "953ff95c",
   "metadata": {},
   "outputs": [],
   "source": []
  }
 ],
 "metadata": {
  "kernelspec": {
   "display_name": "Python 3 (ipykernel)",
   "language": "python",
   "name": "python3"
  },
  "language_info": {
   "codemirror_mode": {
    "name": "ipython",
    "version": 3
   },
   "file_extension": ".py",
   "mimetype": "text/x-python",
   "name": "python",
   "nbconvert_exporter": "python",
   "pygments_lexer": "ipython3",
   "version": "3.10.11"
  }
 },
 "nbformat": 4,
 "nbformat_minor": 5
}
